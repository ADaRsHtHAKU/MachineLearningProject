{
 "cells": [
  {
   "cell_type": "code",
   "execution_count": 1,
   "metadata": {},
   "outputs": [],
   "source": [
    "import matplotlib.pyplot as plt\n",
    "import pandas as pd\n",
    "import numpy as np\n",
    "import nltk\n",
    "import seaborn as sn\n",
    "from nltk.corpus import stopwords\n",
    "from nltk.stem import PorterStemmer\n",
    "from sklearn.decomposition import TruncatedSVD\n",
    "from sklearn.feature_extraction.text import CountVectorizer\n",
    "from sklearn.feature_extraction.text import TfidfVectorizer\n",
    "from gensim.models import Word2Vec\n",
    "from sklearn.neighbors import KNeighborsClassifier\n",
    "from sklearn.metrics import accuracy_score\n",
    "from sklearn.metrics import confusion_matrix\n",
    "from sklearn import metrics\n",
    "from nltk.stem.porter import PorterStemmer\n",
    "import sqlite3"
   ]
  },
  {
   "cell_type": "code",
   "execution_count": 2,
   "metadata": {},
   "outputs": [],
   "source": [
    "con=sqlite3.connect('database.sqlite')\n",
    "dataBase=pd.read_sql_query(\"\"\"\n",
    "Select *\n",
    "from Reviews\n",
    "where Score !=3\n",
    "\"\"\", con)"
   ]
  },
  {
   "cell_type": "code",
   "execution_count": 3,
   "metadata": {},
   "outputs": [],
   "source": [
    "def change(n):\n",
    "    if n>3:\n",
    "        return 1\n",
    "    else:\n",
    "        return 0\n",
    "\n",
    "Score=dataBase['Score']\n",
    "Reviews=Score.map(change)"
   ]
  },
  {
   "cell_type": "code",
   "execution_count": 4,
   "metadata": {},
   "outputs": [],
   "source": [
    "dataBase['Score']=Reviews"
   ]
  },
  {
   "cell_type": "code",
   "execution_count": 5,
   "metadata": {},
   "outputs": [],
   "source": [
    "Database=dataBase.drop_duplicates(subset={\"UserId\",\"ProfileName\",\"Time\",\"Text\"},keep=\"first\",inplace=False)"
   ]
  },
  {
   "cell_type": "code",
   "execution_count": 6,
   "metadata": {},
   "outputs": [],
   "source": [
    "Database=Database[Database.HelpfulnessNumerator <= Database.HelpfulnessDenominator]"
   ]
  },
  {
   "cell_type": "code",
   "execution_count": 7,
   "metadata": {},
   "outputs": [],
   "source": [
    "SortedDatabase= Database.sort_values(by=['Time'], ascending=True,)"
   ]
  },
  {
   "cell_type": "code",
   "execution_count": 25,
   "metadata": {},
   "outputs": [],
   "source": [
    "SortedDatabase=SortedDatabase.head(50000)"
   ]
  },
  {
   "cell_type": "code",
   "execution_count": 26,
   "metadata": {},
   "outputs": [],
   "source": [
    "import re\n",
    "from nltk.corpus import stopwords\n",
    "from nltk.stem import PorterStemmer\n",
    "from nltk.stem.wordnet import WordNetLemmatizer\n",
    "\n",
    "stop=set(stopwords.words(\"english\"))#case-sensitive\n",
    "sno=nltk.stem.SnowballStemmer('english') #initializing snowball stemmer\n",
    "def cleantags(sen):\n",
    "    clean=re.compile('<.*?>')\n",
    "    cleaned=re.sub(clean,'',sen)\n",
    "    return cleaned\n",
    "def cleanpunctuations(sen):\n",
    "    cleann=re.sub(r'[?|!|\\'|\"|#]',r'',sen)\n",
    "    cleann=re.sub(r'[,|.|)|(|\\|/]',r'',cleann)\n",
    "    return cleann"
   ]
  },
  {
   "cell_type": "code",
   "execution_count": 27,
   "metadata": {},
   "outputs": [],
   "source": [
    "i=0\n",
    "strin=''\n",
    "positive=[]\n",
    "negative=[]\n",
    "finalstring=[]\n",
    "s=''\n",
    "for sent in SortedDatabase['Text'].values:\n",
    "    filtered_sentences=[]\n",
    "    sent=cleantags(sent)\n",
    "    for a in sent.split():\n",
    "        for cleaned_words in cleanpunctuations(a).split():\n",
    "            if((cleaned_words.isalpha())& (len(cleaned_words)>2)):\n",
    "                if(cleaned_words.lower() not in stop):\n",
    "                    s=(sno.stem(cleaned_words.lower())).encode('utf8')\n",
    "                    filtered_sentences.append(s)\n",
    "                    if(SortedDatabase['Score'].values)[i]==1:\n",
    "                        positive.append(s) #list of all words used\n",
    "                    if(SortedDatabase['Score'].values)[i]==0:\n",
    "                        negative.append(s)\n",
    "                else:\n",
    "                    continue\n",
    "            else:\n",
    "                continue\n",
    "    strin = b\" \".join(filtered_sentences) \n",
    "    finalstring.append(strin)\n",
    "    i+=1"
   ]
  },
  {
   "cell_type": "code",
   "execution_count": 28,
   "metadata": {},
   "outputs": [],
   "source": [
    "SortedDatabase['CleanText']=finalstring"
   ]
  },
  {
   "cell_type": "code",
   "execution_count": 29,
   "metadata": {},
   "outputs": [],
   "source": [
    "X=SortedDatabase['CleanText']\n",
    "Y=SortedDatabase['Score']"
   ]
  },
  {
   "cell_type": "code",
   "execution_count": 30,
   "metadata": {},
   "outputs": [
    {
     "data": {
      "text/plain": [
       "(30000,)"
      ]
     },
     "execution_count": 30,
     "metadata": {},
     "output_type": "execute_result"
    }
   ],
   "source": [
    "X.shape"
   ]
  },
  {
   "cell_type": "markdown",
   "metadata": {},
   "source": [
    "# BAG OF WORDS APPROACH"
   ]
  },
  {
   "cell_type": "code",
   "execution_count": 31,
   "metadata": {},
   "outputs": [],
   "source": [
    "count_vect = CountVectorizer()\n",
    "VectorofWordsB = count_vect.fit_transform(X)"
   ]
  },
  {
   "cell_type": "code",
   "execution_count": 32,
   "metadata": {},
   "outputs": [
    {
     "data": {
      "text/plain": [
       "(30000, 36654)"
      ]
     },
     "execution_count": 32,
     "metadata": {},
     "output_type": "execute_result"
    }
   ],
   "source": [
    "VectorofWordsB.shape\n"
   ]
  },
  {
   "cell_type": "markdown",
   "metadata": {},
   "source": [
    "# Splitting into testing and training\n"
   ]
  },
  {
   "cell_type": "code",
   "execution_count": 33,
   "metadata": {},
   "outputs": [],
   "source": [
    "from sklearn.model_selection import train_test_split\n",
    "from sklearn.neighbors import KNeighborsClassifier\n",
    "from sklearn.model_selection import cross_val_score\n",
    "from collections import Counter\n",
    "from sklearn.metrics import accuracy_score\n",
    "from sklearn import model_selection"
   ]
  },
  {
   "cell_type": "code",
   "execution_count": 34,
   "metadata": {},
   "outputs": [],
   "source": [
    "X1,Xtest,Y1,Ytest=train_test_split(VectorofWordsB,Y,test_size=0.3,random_state=0)\n",
    "XTrain,Xcv,Ytrain,Ycv=train_test_split(X1,Y1,test_size=0.3)"
   ]
  },
  {
   "cell_type": "code",
   "execution_count": 35,
   "metadata": {},
   "outputs": [
    {
     "data": {
      "text/plain": [
       "(9000, 36654)"
      ]
     },
     "execution_count": 35,
     "metadata": {},
     "output_type": "execute_result"
    }
   ],
   "source": [
    "\n",
    "Xtest.shape\n"
   ]
  },
  {
   "cell_type": "code",
   "execution_count": 36,
   "metadata": {},
   "outputs": [
    {
     "data": {
      "text/plain": [
       "(6300, 36654)"
      ]
     },
     "execution_count": 36,
     "metadata": {},
     "output_type": "execute_result"
    }
   ],
   "source": [
    "Xcv.shape"
   ]
  },
  {
   "cell_type": "code",
   "execution_count": 37,
   "metadata": {},
   "outputs": [
    {
     "data": {
      "text/plain": [
       "(14700,)"
      ]
     },
     "execution_count": 37,
     "metadata": {},
     "output_type": "execute_result"
    }
   ],
   "source": [
    "Ytrain.shape"
   ]
  },
  {
   "cell_type": "markdown",
   "metadata": {},
   "source": [
    "# Simple Cross Validation"
   ]
  },
  {
   "cell_type": "code",
   "execution_count": 70,
   "metadata": {},
   "outputs": [
    {
     "name": "stdout",
     "output_type": "stream",
     "text": [
      "\n",
      " CV accuracy for k= 1 is 77%\n",
      "\n",
      " CV accuracy for k= 3 is 87%\n",
      "\n",
      " CV accuracy for k= 5 is 89%\n",
      "\n",
      " CV accuracy for k= 7 is 89%\n",
      "\n",
      " CV accuracy for k= 9 is 89%\n"
     ]
    }
   ],
   "source": [
    "for i in range(1,10,2):\n",
    "    knn=KNeighborsClassifier(n_neighbors=i)\n",
    "    knn.fit(XTrain,Ytrain)\n",
    "    prediction=knn.predict(Xcv)\n",
    "    acc=accuracy_score(Ycv,prediction,normalize=True)*float(100)\n",
    "    print('\\n CV accuracy for k= %d is %d%%' %(i,acc))\n",
    "    "
   ]
  },
  {
   "cell_type": "code",
   "execution_count": 71,
   "metadata": {},
   "outputs": [
    {
     "name": "stdout",
     "output_type": "stream",
     "text": [
      "\n",
      " CV accuracy for k= 5 is 88%\n"
     ]
    }
   ],
   "source": [
    "knn=KNeighborsClassifier(n_neighbors=5)\n",
    "knn.fit(XTrain,Ytrain)\n",
    "prediction=knn.predict(Xtest)\n",
    "acc=accuracy_score(Ytest,prediction,normalize=True)*float(100)\n",
    "print('\\n CV accuracy for k= 5 is %d%%' %(acc))"
   ]
  },
  {
   "cell_type": "code",
   "execution_count": 72,
   "metadata": {},
   "outputs": [
    {
     "data": {
      "image/png": "[encoded data removed]",
      "text/plain": [
       "<Figure size 432x288 with 2 Axes>"
      ]
     },
     "metadata": {
      "needs_background": "light"
     },
     "output_type": "display_data"
    }
   ],
   "source": [
    "cm = confusion_matrix(Ytest,prediction)\n",
    "sn.heatmap(cm, annot=True,fmt='d')\n",
    "plt.title('Confusion Matrix for BoW')\n",
    "plt.show()"
   ]
  },
  {
   "cell_type": "code",
   "execution_count": 74,
   "metadata": {},
   "outputs": [
    {
     "name": "stdout",
     "output_type": "stream",
     "text": [
      "0.9411834249571437\n"
     ]
    }
   ],
   "source": [
    "from sklearn.metrics import f1_score\n",
    "F1=f1_score(Ytest,prediction)\n",
    "print(F1)"
   ]
  },
  {
   "cell_type": "markdown",
   "metadata": {},
   "source": [
    "# K fold Cross Validation"
   ]
  },
  {
   "cell_type": "code",
   "execution_count": 47,
   "metadata": {},
   "outputs": [
    {
     "name": "stdout",
     "output_type": "stream",
     "text": [
      "\n",
      " The optimal number of neighbors is 9.\n"
     ]
    },
    {
     "data": {
      "text/plain": [
       "[<matplotlib.lines.Line2D at 0x1f0a0a44d48>]"
      ]
     },
     "execution_count": 47,
     "metadata": {},
     "output_type": "execute_result"
    },
    {
     "data": {
      "image/png": "[encoded data removed]",
      "text/plain": [
       "<Figure size 432x288 with 1 Axes>"
      ]
     },
     "metadata": {
      "needs_background": "light"
     },
     "output_type": "display_data"
    }
   ],
   "source": [
    "my=list(range(0,50))\n",
    "ne=list(filter(lambda x:x %2 !=0, my))\n",
    "cvscore=[]\n",
    "\n",
    "for k in ne:\n",
    "    knn= KNeighborsClassifier(n_neighbors=k)\n",
    "    scores=cross_val_score(knn,XTrain,Ytrain, cv=10, scoring='accuracy')\n",
    "    cvscore.append(scores.mean())\n",
    "    \n",
    "MSE= [1-x for x in cvscore]\n",
    "\n",
    "optimalk=ne[MSE.index(min(MSE))]\n",
    "print('\\n The optimal number of neighbors is %d.' % optimalk)\n",
    "plt.plot(ne,MSE)"
   ]
  },
  {
   "cell_type": "code",
   "execution_count": 59,
   "metadata": {},
   "outputs": [
    {
     "name": "stdout",
     "output_type": "stream",
     "text": [
      "\n",
      " CV accuracy for k= 9 is 89%\n"
     ]
    }
   ],
   "source": [
    "knnopt=KNeighborsClassifier(n_neighbors=optimalk)\n",
    "knnopt.fit(XTrain,Ytrain)\n",
    "prediction=knnopt.predict(Xtest)\n",
    "acc=accuracy_score(Ytest,prediction,normalize=True)*float(100)\n",
    "print('\\n CV accuracy for k= %d is %d%%' %(optimalk, acc))"
   ]
  },
  {
   "cell_type": "markdown",
   "metadata": {},
   "source": []
  },
  {
   "cell_type": "code",
   "execution_count": 61,
   "metadata": {},
   "outputs": [
    {
     "data": {
      "image/png": "[encoded data removed]",
      "text/plain": [
       "<Figure size 432x288 with 2 Axes>"
      ]
     },
     "metadata": {
      "needs_background": "light"
     },
     "output_type": "display_data"
    }
   ],
   "source": [
    "cm = confusion_matrix(Ytest,prediction)\n",
    "sn.heatmap(cm, annot=True,fmt='d')\n",
    "plt.title('Confusion Matrix for TF-IDF')\n",
    "plt.show()"
   ]
  },
  {
   "cell_type": "code",
   "execution_count": 68,
   "metadata": {},
   "outputs": [],
   "source": [
    "from sklearn.metrics import f1_score\n",
    "F1=f1_score(Ytest,prediction)"
   ]
  },
  {
   "cell_type": "code",
   "execution_count": 69,
   "metadata": {},
   "outputs": [
    {
     "data": {
      "text/plain": [
       "0.9411834249571437"
      ]
     },
     "execution_count": 69,
     "metadata": {},
     "output_type": "execute_result"
    }
   ],
   "source": [
    "F1"
   ]
  },
  {
   "cell_type": "markdown",
   "metadata": {},
   "source": [
    "# USING TF-IDF"
   ]
  },
  {
   "cell_type": "code",
   "execution_count": 75,
   "metadata": {},
   "outputs": [],
   "source": [
    "tfidf=TfidfVectorizer(ngram_range=(1,2))\n",
    "finaltfidf=tfidf.fit_transform(X)"
   ]
  },
  {
   "cell_type": "code",
   "execution_count": 76,
   "metadata": {},
   "outputs": [],
   "source": [
    "X1,Xtest,Y1,Ytest=train_test_split(finaltfidf,Y,test_size=0.3,random_state=0)\n",
    "XTrain,Xcv,Ytrain,Ycv=train_test_split(X1,Y1,test_size=0.3)"
   ]
  },
  {
   "cell_type": "markdown",
   "metadata": {},
   "source": [
    "# Simple Cross Validation"
   ]
  },
  {
   "cell_type": "code",
   "execution_count": 77,
   "metadata": {},
   "outputs": [
    {
     "name": "stdout",
     "output_type": "stream",
     "text": [
      "\n",
      " CV accuracy for k= 1 is 86%\n",
      "\n",
      " CV accuracy for k= 3 is 89%\n",
      "\n",
      " CV accuracy for k= 5 is 90%\n",
      "\n",
      " CV accuracy for k= 7 is 90%\n",
      "\n",
      " CV accuracy for k= 9 is 90%\n"
     ]
    }
   ],
   "source": [
    "for i in range(1,10,2):\n",
    "    knn=KNeighborsClassifier(n_neighbors=i)\n",
    "    knn.fit(XTrain,Ytrain)\n",
    "    prediction=knn.predict(Xcv)\n",
    "    acc=accuracy_score(Ycv,prediction,normalize=True)*float(100)\n",
    "    print('\\n CV accuracy for k= %d is %d%%' %(i,acc))\n",
    "    "
   ]
  },
  {
   "cell_type": "code",
   "execution_count": 78,
   "metadata": {},
   "outputs": [
    {
     "name": "stdout",
     "output_type": "stream",
     "text": [
      "\n",
      " CV accuracy for k= 5 is 89%\n"
     ]
    }
   ],
   "source": [
    "knn=KNeighborsClassifier(n_neighbors=5)\n",
    "knn.fit(XTrain,Ytrain)\n",
    "prediction=knn.predict(Xtest)\n",
    "acc=accuracy_score(Ytest,prediction,normalize=True)*float(100)\n",
    "print('\\n CV accuracy for k= 5 is %d%%' %(acc))"
   ]
  },
  {
   "cell_type": "code",
   "execution_count": 79,
   "metadata": {},
   "outputs": [
    {
     "data": {
      "image/png": "[encoded data removed]",
      "text/plain": [
       "<Figure size 432x288 with 2 Axes>"
      ]
     },
     "metadata": {
      "needs_background": "light"
     },
     "output_type": "display_data"
    }
   ],
   "source": [
    "cm = confusion_matrix(Ytest,prediction)\n",
    "sn.heatmap(cm, annot=True,fmt='d')\n",
    "plt.title('Confusion Matrix for BoW')\n",
    "plt.show()"
   ]
  },
  {
   "cell_type": "code",
   "execution_count": 80,
   "metadata": {},
   "outputs": [
    {
     "name": "stdout",
     "output_type": "stream",
     "text": [
      "0.9443191262020658\n"
     ]
    }
   ],
   "source": [
    "from sklearn.metrics import f1_score\n",
    "F1=f1_score(Ytest,prediction)\n",
    "print(F1)"
   ]
  },
  {
   "cell_type": "markdown",
   "metadata": {},
   "source": [
    "# K-Fold Cross Validation"
   ]
  },
  {
   "cell_type": "code",
   "execution_count": 81,
   "metadata": {},
   "outputs": [
    {
     "name": "stdout",
     "output_type": "stream",
     "text": [
      "\n",
      " The optimal number of neighbors is 7.\n"
     ]
    },
    {
     "data": {
      "text/plain": [
       "[<matplotlib.lines.Line2D at 0x1f0a0658188>]"
      ]
     },
     "execution_count": 81,
     "metadata": {},
     "output_type": "execute_result"
    },
    {
     "data": {
      "image/png": "[encoded data removed]",
      "text/plain": [
       "<Figure size 432x288 with 1 Axes>"
      ]
     },
     "metadata": {
      "needs_background": "light"
     },
     "output_type": "display_data"
    }
   ],
   "source": [
    "my=list(range(0,50))\n",
    "ne=list(filter(lambda x:x %2 !=0, my))\n",
    "cvscore=[]\n",
    "\n",
    "for k in ne:\n",
    "    knn= KNeighborsClassifier(n_neighbors=k)\n",
    "    scores=cross_val_score(knn,XTrain,Ytrain, cv=10, scoring='accuracy')\n",
    "    cvscore.append(scores.mean())\n",
    "    \n",
    "MSE= [1-x for x in cvscore]\n",
    "\n",
    "optimalk=ne[MSE.index(min(MSE))]\n",
    "print('\\n The optimal number of neighbors is %d.' % optimalk)\n",
    "plt.plot(ne,MSE)"
   ]
  },
  {
   "cell_type": "code",
   "execution_count": 82,
   "metadata": {},
   "outputs": [
    {
     "name": "stdout",
     "output_type": "stream",
     "text": [
      "\n",
      " CV accuracy for k= 7 is 89%\n"
     ]
    }
   ],
   "source": [
    "knnopt=KNeighborsClassifier(n_neighbors=optimalk)\n",
    "knnopt.fit(XTrain,Ytrain)\n",
    "prediction=knnopt.predict(Xtest)\n",
    "acc=accuracy_score(Ytest,prediction,normalize=True)*float(100)\n",
    "print('\\n CV accuracy for k= %d is %d%%' %(optimalk, acc))"
   ]
  },
  {
   "cell_type": "code",
   "execution_count": 83,
   "metadata": {},
   "outputs": [
    {
     "data": {
      "image/png": "[encoded data removed]",
      "text/plain": [
       "<Figure size 432x288 with 2 Axes>"
      ]
     },
     "metadata": {
      "needs_background": "light"
     },
     "output_type": "display_data"
    }
   ],
   "source": [
    "cm = confusion_matrix(Ytest,prediction)\n",
    "sn.heatmap(cm, annot=True,fmt='d')\n",
    "plt.title('Confusion Matrix for BoW')\n",
    "plt.show()"
   ]
  },
  {
   "cell_type": "code",
   "execution_count": 84,
   "metadata": {},
   "outputs": [
    {
     "name": "stdout",
     "output_type": "stream",
     "text": [
      "0.9449079827208711\n"
     ]
    }
   ],
   "source": [
    "from sklearn.metrics import f1_score\n",
    "F1=f1_score(Ytest,prediction)\n",
    "print(F1)"
   ]
  },
  {
   "cell_type": "code",
   "execution_count": null,
   "metadata": {},
   "outputs": [],
   "source": []
  }
 ],
 "metadata": {
  "kernelspec": {
   "display_name": "Python 3",
   "language": "python",
   "name": "python3"
  },
  "language_info": {
   "codemirror_mode": {
    "name": "ipython",
    "version": 3
   },
   "file_extension": ".py",
   "mimetype": "text/x-python",
   "name": "python",
   "nbconvert_exporter": "python",
   "pygments_lexer": "ipython3",
   "version": "3.7.6"
  }
 },
 "nbformat": 4,
 "nbformat_minor": 4
}
